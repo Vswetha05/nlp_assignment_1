{
  "cells": [
    {
      "cell_type": "code",
      "execution_count": null,
      "metadata": {
        "colab": {
          "base_uri": "https://localhost:8080/"
        },
        "id": "riXQqrHoM6R2",
        "outputId": "7467752e-d9b7-41cb-c652-6d84509bec56"
      },
      "outputs": [
        {
          "name": "stderr",
          "output_type": "stream",
          "text": [
            "[nltk_data] Downloading package punkt to /root/nltk_data...\n",
            "[nltk_data]   Unzipping tokenizers/punkt.zip.\n"
          ]
        },
        {
          "name": "stdout",
          "output_type": "stream",
          "text": [
            "The predicted next word for 'natural' is 'language'\n",
            "The predicted next word for 'language' is 'data'\n",
            "The predicted next word for 'is' is 'to'\n",
            "The predicted next word for 'to' is 'apply'\n",
            "The predicted next word for 'computers' is 'to'\n",
            "The predicted next word for 'that' is 'the'\n"
          ]
        }
      ],
      "source": [
        "import nltk\n",
        "from nltk import bigrams\n",
        "from nltk.tokenize import word_tokenize\n",
        "from nltk.probability import ConditionalFreqDist\n",
        "import random\n",
        "\n",
        "nltk.download('punkt')\n",
        "\n",
        "text_corpus = \"\"\"\n",
        "Natural language processing (NLP) is a field of artificial intelligence that deals with the interaction between computers and humans using natural language. The ultimate objective of NLP is to enable computers to understand, interpret, and generate human language in a way that is valuable. NLP is used to apply algorithms to identify and extract the natural language rules such that the unstructured language data is converted into a form that computers can understand.\n",
        "\"\"\"\n",
        "\n",
        "tokens = word_tokenize(text_corpus.lower())\n",
        "\n",
        "\n",
        "bigrams_list = list(bigrams(tokens))\n",
        "\n",
        "cfd = ConditionalFreqDist(bigrams_list)\n",
        "\n",
        "\n",
        "def predict_next_word(current_word, cfd):\n",
        "    if current_word in cfd:\n",
        "        next_word_candidates = list(cfd[current_word].keys())\n",
        "        next_word_probs = [cfd[current_word].freq(word) for word in next_word_candidates]\n",
        "        next_word = random.choices(next_word_candidates, weights=next_word_probs, k=1)[0]\n",
        "        return next_word\n",
        "    else:\n",
        "        return None\n",
        "\n",
        "\n",
        "current_word = \"natural\"\n",
        "next_word = predict_next_word(current_word, cfd)\n",
        "print(f\"The predicted next word for '{current_word}' is '{next_word}'\")\n",
        "\n",
        "\n",
        "words_to_predict = [\"language\", \"is\", \"to\", \"computers\", \"that\"]\n",
        "for word in words_to_predict:\n",
        "    next_word = predict_next_word(word, cfd)\n",
        "    print(f\"The predicted next word for '{word}' is '{next_word}'\")"
      ]
    }
  ],
  "metadata": {
    "colab": {
      "provenance": []
    },
    "kernelspec": {
      "display_name": "Python 3",
      "name": "python3"
    },
    "language_info": {
      "name": "python"
    }
  },
  "nbformat": 4,
  "nbformat_minor": 0
}
